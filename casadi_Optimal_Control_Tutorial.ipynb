{
 "cells": [
  {
   "metadata": {},
   "cell_type": "markdown",
   "source": "# Setup the problem",
   "id": "26b62b0559042bcc"
  },
  {
   "metadata": {
    "ExecuteTime": {
     "end_time": "2024-09-17T13:11:48.444030Z",
     "start_time": "2024-09-17T13:11:48.390464Z"
    }
   },
   "cell_type": "code",
   "source": [
    "import casadi as cs\n",
    "\n",
    "N = 100 \n",
    "opti = cs.Opti()"
   ],
   "id": "4f85e11db41a0cdd",
   "outputs": [],
   "execution_count": 1
  },
  {
   "metadata": {},
   "cell_type": "markdown",
   "source": "# Declare decision variables",
   "id": "e0a1149da6deed60"
  },
  {
   "metadata": {
    "ExecuteTime": {
     "end_time": "2024-09-17T13:11:49.910165Z",
     "start_time": "2024-09-17T13:11:49.902660Z"
    }
   },
   "cell_type": "code",
   "source": [
    "X = opti.variable(2, N+1) # state trajectory \n",
    "pos = X[0, :]\n",
    "speed = X[1, :]\n",
    "U = opti.variable(1, N) # control trajectory \n",
    "T = opti.variable() # final time "
   ],
   "id": "63e607522348d178",
   "outputs": [],
   "execution_count": 2
  },
  {
   "metadata": {},
   "cell_type": "markdown",
   "source": "# Set the objective",
   "id": "dd67b9ab1a59ca77"
  },
  {
   "metadata": {
    "ExecuteTime": {
     "end_time": "2024-09-17T13:11:51.445048Z",
     "start_time": "2024-09-17T13:11:51.440132Z"
    }
   },
   "cell_type": "code",
   "source": "opti.minimize(T)",
   "id": "3e47397bcf1c92a9",
   "outputs": [],
   "execution_count": 3
  },
  {
   "metadata": {},
   "cell_type": "markdown",
   "source": "# Specify system dynamics",
   "id": "ce404323f067cd54"
  },
  {
   "metadata": {
    "ExecuteTime": {
     "end_time": "2024-09-17T13:11:53.214090Z",
     "start_time": "2024-09-17T13:11:53.211688Z"
    }
   },
   "cell_type": "code",
   "source": [
    "def f(x, u):\n",
    "    # Return a CasADi type (e.g., MX or SX) using vertcat to combine elements\n",
    "    return cs.vertcat(x[1], u - x[1])"
   ],
   "id": "78c4970c19cdbbe3",
   "outputs": [],
   "execution_count": 4
  },
  {
   "metadata": {},
   "cell_type": "markdown",
   "source": "# Set gap closing constraints, picking RK as integration method ",
   "id": "bf35bffb92efae5e"
  },
  {
   "metadata": {
    "ExecuteTime": {
     "end_time": "2024-09-17T13:11:54.516308Z",
     "start_time": "2024-09-17T13:11:54.470205Z"
    }
   },
   "cell_type": "code",
   "source": [
    "dt = T/N # length of a control interval\n",
    "for k in range(N):\n",
    "    # Using RK-4 \n",
    "    k1 = f(X[:, k], U[:, k])\n",
    "    k2 = f(X[:, k] + dt/2 * k1, U[:, k])\n",
    "    k3 = f(X[:, k] + dt/2 * k2, U[:, k])\n",
    "    k4 = f(X[:, k] + dt*k3, U[:, k])\n",
    "    x_next = X[:, k] + dt/6 * (k1 + 2*k2 + 2*k3 + k4)\n",
    "    opti.subject_to(X[:, k+1] == x_next)"
   ],
   "id": "374f12a63ea2f4c1",
   "outputs": [],
   "execution_count": 5
  },
  {
   "metadata": {},
   "cell_type": "markdown",
   "source": "# Set Path constraints",
   "id": "4a39be268cd19704"
  },
  {
   "metadata": {
    "ExecuteTime": {
     "end_time": "2024-09-17T13:11:56.020465Z",
     "start_time": "2024-09-17T13:11:56.015419Z"
    }
   },
   "cell_type": "code",
   "source": [
    "def limit(x):\n",
    "    return 1 - cs.sin(2 * cs.pi * x) / 2\n",
    "\n",
    "opti.subject_to(speed<=limit(pos)) # track speed limit \n",
    "\n",
    "# IMP: Need to separate these constraints \n",
    "opti.subject_to(0<=U) # control input greater than 0\n",
    "opti.subject_to(U<=1) # control input is limited to less than 1"
   ],
   "id": "8ceef8a6508bd378",
   "outputs": [],
   "execution_count": 6
  },
  {
   "metadata": {},
   "cell_type": "markdown",
   "source": "# Set Boundary conditions",
   "id": "9c37f0f29b694132"
  },
  {
   "metadata": {
    "ExecuteTime": {
     "end_time": "2024-09-17T13:11:57.643862Z",
     "start_time": "2024-09-17T13:11:57.638981Z"
    }
   },
   "cell_type": "code",
   "source": [
    "opti.subject_to(pos[0]==0) # start at pos 0 \n",
    "opti.subject_to(speed[0]==0) # ... from stand-still \n",
    "opti.subject_to(pos[N]==1) # finish line at position 1\n",
    "opti.subject_to(T>=0) # time must be positive"
   ],
   "id": "7472bcca53be474e",
   "outputs": [],
   "execution_count": 7
  },
  {
   "metadata": {},
   "cell_type": "markdown",
   "source": "# Provide initial guesses for the solver",
   "id": "cd6b81c36f30a6d0"
  },
  {
   "metadata": {
    "ExecuteTime": {
     "end_time": "2024-09-17T13:11:58.978071Z",
     "start_time": "2024-09-17T13:11:58.971601Z"
    }
   },
   "cell_type": "code",
   "source": [
    "opti.set_initial(speed, 1)\n",
    "opti.set_initial(T, 1)"
   ],
   "id": "3aad7eb9fd1cd0a3",
   "outputs": [],
   "execution_count": 8
  },
  {
   "metadata": {},
   "cell_type": "markdown",
   "source": "# Solve the NLP using IPOPT",
   "id": "7dbc25ca205d0264"
  },
  {
   "metadata": {
    "ExecuteTime": {
     "end_time": "2024-09-17T13:12:01.366888Z",
     "start_time": "2024-09-17T13:12:01.148460Z"
    }
   },
   "cell_type": "code",
   "source": [
    "opti.solver('ipopt')\n",
    "sol = opti.solve()"
   ],
   "id": "2182d4dfa3b77369",
   "outputs": [
    {
     "name": "stdout",
     "output_type": "stream",
     "text": [
      "\n",
      "******************************************************************************\n",
      "This program contains Ipopt, a library for large-scale nonlinear optimization.\n",
      " Ipopt is released as open source code under the Eclipse Public License (EPL).\n",
      "         For more information visit https://github.com/coin-or/Ipopt\n",
      "******************************************************************************\n",
      "\n",
      "This is Ipopt version 3.14.16, running with linear solver MUMPS 5.7.3.\n",
      "\n",
      "Number of nonzeros in equality constraint Jacobian...:      903\n",
      "Number of nonzeros in inequality constraint Jacobian.:      403\n",
      "Number of nonzeros in Lagrangian Hessian.............:      302\n",
      "\n",
      "Total number of variables............................:      303\n",
      "                     variables with only lower bounds:        0\n",
      "                variables with lower and upper bounds:        0\n",
      "                     variables with only upper bounds:        0\n",
      "Total number of equality constraints.................:      203\n",
      "Total number of inequality constraints...............:      302\n",
      "        inequality constraints with only lower bounds:      101\n",
      "   inequality constraints with lower and upper bounds:        0\n",
      "        inequality constraints with only upper bounds:      201\n",
      "\n",
      "iter    objective    inf_pr   inf_du lg(mu)  ||d||  lg(rg) alpha_du alpha_pr  ls\n",
      "   0  1.0000000e+00 1.00e+00 2.88e-01  -1.0 0.00e+00    -  0.00e+00 0.00e+00   0\n",
      "   1  1.0178183e+00 9.90e-01 2.90e-01  -1.7 2.19e+00    -  1.01e-02 1.03e-02h  1\n",
      "   2  1.0188774e+00 9.89e-01 1.06e+02  -1.7 2.91e+00    -  2.54e-02 4.81e-04h  1\n",
      "   3  1.0319117e+00 9.84e-01 1.58e+03  -1.7 3.11e+00    -  4.80e-02 5.76e-03h  1\n",
      "   4  1.0330903e+00 9.83e-01 2.06e+05  -1.7 3.08e+00    -  5.55e-02 4.88e-04h  1\n",
      "   5  1.0342772e+00 9.83e-01 3.21e+06  -1.7 3.08e+00    -  7.44e-03 4.80e-04h  1\n",
      "   6  1.0343480e+00 9.83e-01 8.65e+08  -1.7 3.08e+00    -  7.22e-03 2.82e-05h  1\n",
      "   7r 1.0343480e+00 9.83e-01 1.00e+03  -0.0 0.00e+00    -  0.00e+00 1.66e-07R  2\n",
      "   8r 1.0754796e+00 8.62e-01 9.91e+02  -0.0 1.81e+01    -  9.68e-03 3.48e-02f  1\n",
      "   9  1.0762381e+00 8.62e-01 1.76e+02  -1.7 2.97e+00    -  3.96e-02 2.55e-04f  1\n",
      "iter    objective    inf_pr   inf_du lg(mu)  ||d||  lg(rg) alpha_du alpha_pr  ls\n",
      "  10  1.0768146e+00 8.62e-01 2.85e+04  -1.7 3.12e+00    -  2.83e-02 1.85e-04h  1\n",
      "  11  1.0774410e+00 8.61e-01 5.44e+06  -1.7 3.12e+00    -  3.83e-02 2.00e-04h  1\n",
      "  12r 1.0774410e+00 8.61e-01 1.00e+03  -0.1 0.00e+00    -  0.00e+00 3.17e-07R  4\n",
      "  13r 1.3177546e+00 7.90e-01 9.98e+02  -0.1 2.37e+01    -  2.39e-03 1.01e-02f  1\n",
      "  14r 1.7404997e+00 6.26e-01 9.69e+02  -0.1 2.11e+01    -  4.25e-02 2.01e-02f  1\n",
      "  15r 1.8351570e+00 6.70e-01 9.27e+02  -0.1 4.38e+00    -  5.70e-02 4.29e-02f  1\n",
      "  16r 1.9340425e+00 7.03e-01 8.94e+02  -0.1 3.53e+00    -  3.57e-02 3.55e-02f  1\n",
      "  17r 1.4937506e+00 8.15e-01 7.06e+02  -0.1 2.08e+00    -  2.05e-01 2.12e-01f  1\n",
      "  18r 2.8713848e+00 6.48e-01 1.50e+03  -0.1 2.40e+00    -  2.89e-01 5.73e-01f  1\n",
      "  19  2.8713802e-02 4.61e-01 3.93e+02  -1.7 2.01e+01    -  8.48e-04 2.88e-01F  1\n",
      "iter    objective    inf_pr   inf_du lg(mu)  ||d||  lg(rg) alpha_du alpha_pr  ls\n",
      "  20  4.1627536e+00 1.24e-01 1.66e+02  -1.7 5.66e+00    -  5.02e-03 7.30e-01f  1\n",
      "  21  3.6804496e+00 1.20e-01 1.60e+02  -1.7 1.28e+01    -  6.94e-03 3.76e-02f  1\n",
      "  22  3.1987179e+00 1.05e-01 1.43e+02  -1.7 3.98e+00    -  2.90e-02 1.21e-01h  1\n",
      "  23  2.6516470e+00 9.11e-02 1.26e+02  -1.7 4.07e+00    -  6.66e-02 1.34e-01h  1\n",
      "  24  1.8502200e+00 6.80e-02 9.99e+01  -1.7 3.16e+00    -  2.44e-01 2.54e-01h  1\n",
      "  25  1.7675079e+00 5.55e-02 8.29e+01  -1.7 2.16e+00    -  2.03e-01 1.83e-01h  1\n",
      "  26  1.7675646e+00 5.38e-02 8.03e+01  -1.7 1.04e+01    -  5.87e-02 3.09e-02h  1\n",
      "  27  1.7722647e+00 5.22e-02 7.79e+01  -1.7 8.37e+00    -  6.65e-02 3.02e-02h  1\n",
      "  28  1.7831675e+00 4.93e-02 7.38e+01  -1.7 4.52e+00    -  8.23e-02 5.40e-02h  1\n",
      "  29  1.8064956e+00 4.37e-02 6.56e+01  -1.7 3.45e+00    -  7.95e-02 1.14e-01h  1\n",
      "iter    objective    inf_pr   inf_du lg(mu)  ||d||  lg(rg) alpha_du alpha_pr  ls\n",
      "  30  1.8476753e+00 3.46e-02 5.24e+01  -1.7 2.59e+00    -  1.10e-01 2.08e-01h  1\n",
      "  31  1.9169640e+00 1.94e-02 3.02e+01  -1.7 1.52e+00    -  2.06e-01 4.41e-01h  1\n",
      "  32  1.9323610e+00 1.59e-02 2.48e+01  -1.7 4.78e-01    -  6.40e-01 1.79e-01h  1\n",
      "  33  2.0250961e+00 2.77e-03 9.66e+00  -1.7 1.04e+00    -  4.15e-01 8.25e-01f  1\n",
      "  34  2.0775812e+00 1.06e-04 6.48e+00  -1.7 2.11e-01    -  4.79e-01 1.00e+00f  1\n",
      "  35  2.1675444e+00 1.47e-04 2.95e+00  -1.7 1.83e-01    -  5.01e-01 1.00e+00f  1\n",
      "  36  2.3307429e+00 2.29e-04 1.06e+00  -1.7 1.63e-01    -  5.58e-01 1.00e+00f  1\n",
      "  37  2.5672495e+00 2.93e-04 8.14e-02  -1.7 2.37e-01    -  8.99e-01 1.00e+00f  1\n",
      "  38  2.3322649e+00 3.29e-04 1.26e-02  -2.5 2.35e-01    -  9.33e-01 1.00e+00h  1\n",
      "  39  1.9971701e+00 4.85e-04 3.13e-02  -3.8 3.35e-01    -  8.03e-01 1.00e+00f  1\n",
      "iter    objective    inf_pr   inf_du lg(mu)  ||d||  lg(rg) alpha_du alpha_pr  ls\n",
      "  40  1.9724770e+00 3.13e-04 6.73e-02  -3.8 2.60e-01    -  7.93e-01 3.68e-01h  1\n",
      "  41  1.9228330e+00 2.61e-04 9.85e-03  -3.8 5.90e-01    -  9.09e-01 9.04e-01f  1\n",
      "  42  1.9200269e+00 3.42e-05 2.92e-02  -3.8 2.71e-01    -  1.00e+00 8.50e-01h  1\n",
      "  43  1.9193567e+00 1.12e-06 1.66e-04  -3.8 1.67e-01    -  1.00e+00 1.00e+00f  1\n",
      "  44  1.9100968e+00 1.04e-05 3.28e-02  -5.7 1.69e-01    -  7.82e-01 6.48e-01f  1\n",
      "  45  1.9058745e+00 9.91e-06 5.34e-03  -5.7 2.52e-01    -  7.93e-01 8.01e-01h  1\n",
      "  46  1.9048661e+00 1.14e-06 1.58e-03  -5.7 6.69e-02    -  1.00e+00 9.50e-01f  1\n",
      "  47  1.9048187e+00 1.40e-09 9.75e-08  -5.7 3.01e-03    -  1.00e+00 1.00e+00f  1\n",
      "  48  1.9046388e+00 1.38e-08 2.06e-05  -8.6 8.29e-03    -  9.70e-01 9.75e-01h  1\n",
      "  49  1.9046343e+00 1.21e-11 2.13e-10  -8.6 2.77e-04    -  1.00e+00 1.00e+00f  1\n",
      "\n",
      "Number of Iterations....: 49\n",
      "\n",
      "                                   (scaled)                 (unscaled)\n",
      "Objective...............:   1.9046342734931156e+00    1.9046342734931156e+00\n",
      "Dual infeasibility......:   2.1312787136808548e-10    2.1312787136808548e-10\n",
      "Constraint violation....:   1.2060463738805538e-11    1.2060463738805538e-11\n",
      "Variable bound violation:   0.0000000000000000e+00    0.0000000000000000e+00\n",
      "Complementarity.........:   2.7194167810968678e-09    2.7194167810968678e-09\n",
      "Overall NLP error.......:   2.7194167810968678e-09    2.7194167810968678e-09\n",
      "\n",
      "\n",
      "Number of objective function evaluations             = 58\n",
      "Number of objective gradient evaluations             = 45\n",
      "Number of equality constraint evaluations            = 58\n",
      "Number of inequality constraint evaluations          = 58\n",
      "Number of equality constraint Jacobian evaluations   = 52\n",
      "Number of inequality constraint Jacobian evaluations = 52\n",
      "Number of Lagrangian Hessian evaluations             = 49\n",
      "Total seconds in IPOPT                               = 0.151\n",
      "\n",
      "EXIT: Optimal Solution Found.\n",
      "      solver  :   t_proc      (avg)   t_wall      (avg)    n_eval\n",
      "       nlp_f  |  39.00us (672.41ns)  33.58us (579.02ns)        58\n",
      "       nlp_g  |   2.90ms ( 50.02us)   2.82ms ( 48.67us)        58\n",
      "  nlp_grad_f  |  56.00us (  1.22us)  49.84us (  1.08us)        46\n",
      "  nlp_hess_l  |   7.60ms (161.62us)   7.64ms (162.46us)        47\n",
      "   nlp_jac_g  |   9.27ms (174.91us)   9.31ms (175.75us)        53\n",
      "       total  | 144.75ms (144.75ms) 153.37ms (153.37ms)         1\n"
     ]
    }
   ],
   "execution_count": 9
  },
  {
   "metadata": {
    "ExecuteTime": {
     "end_time": "2024-09-17T13:15:28.241451Z",
     "start_time": "2024-09-17T13:15:28.188022Z"
    }
   },
   "cell_type": "code",
   "source": [
    "import matplotlib.pyplot as plt\n",
    "\n",
    "plt.plot(sol.value(speed))\n",
    "plt.plot(sol.value(pos))\n",
    "plt.plot(sol.value(U))\n",
    "plt.xlabel('Time (s)')\n",
    "plt.show()"
   ],
   "id": "8d10337a95b4aa0e",
   "outputs": [
    {
     "data": {
      "text/plain": [
       "<Figure size 640x480 with 1 Axes>"
      ],
      "image/png": "[encoded data removed]"
     },
     "metadata": {},
     "output_type": "display_data"
    }
   ],
   "execution_count": 13
  }
 ],
 "metadata": {
  "kernelspec": {
   "display_name": "Python 3",
   "language": "python",
   "name": "python3"
  },
  "language_info": {
   "codemirror_mode": {
    "name": "ipython",
    "version": 2
   },
   "file_extension": ".py",
   "mimetype": "text/x-python",
   "name": "python",
   "nbconvert_exporter": "python",
   "pygments_lexer": "ipython2",
   "version": "2.7.6"
  }
 },
 "nbformat": 4,
 "nbformat_minor": 5
}
