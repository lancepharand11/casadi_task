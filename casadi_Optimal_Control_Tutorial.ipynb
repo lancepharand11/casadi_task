{
 "cells": [
  {
   "metadata": {},
   "cell_type": "markdown",
   "source": "# Setup the problem",
   "id": "26b62b0559042bcc"
  },
  {
   "metadata": {
    "ExecuteTime": {
     "end_time": "2024-09-17T01:42:46.245617Z",
     "start_time": "2024-09-17T01:42:46.240934Z"
    }
   },
   "cell_type": "code",
   "source": [
    "import casadi as cs\n",
    "\n",
    "N = 100 \n",
    "opti = cs.Opti()"
   ],
   "id": "4f85e11db41a0cdd",
   "outputs": [],
   "execution_count": 13
  },
  {
   "metadata": {},
   "cell_type": "markdown",
   "source": "# Declare decision variables",
   "id": "e0a1149da6deed60"
  },
  {
   "metadata": {
    "ExecuteTime": {
     "end_time": "2024-09-17T01:42:47.889836Z",
     "start_time": "2024-09-17T01:42:47.887138Z"
    }
   },
   "cell_type": "code",
   "source": [
    "X = opti.variable(2, N+1) # state trajectory \n",
    "pos = X[0, :]\n",
    "speed = X[1, :]\n",
    "U = opti.variable(1, N) # control trajectory \n",
    "T = opti.variable() # final time "
   ],
   "id": "63e607522348d178",
   "outputs": [],
   "execution_count": 14
  },
  {
   "metadata": {},
   "cell_type": "markdown",
   "source": "# Set the objective",
   "id": "dd67b9ab1a59ca77"
  },
  {
   "metadata": {
    "ExecuteTime": {
     "end_time": "2024-09-17T01:42:49.204975Z",
     "start_time": "2024-09-17T01:42:49.201933Z"
    }
   },
   "cell_type": "code",
   "source": "opti.minimize(T)",
   "id": "3e47397bcf1c92a9",
   "outputs": [],
   "execution_count": 15
  },
  {
   "metadata": {},
   "cell_type": "markdown",
   "source": "# Specify system dynamics",
   "id": "ce404323f067cd54"
  },
  {
   "metadata": {
    "ExecuteTime": {
     "end_time": "2024-09-17T01:42:50.884253Z",
     "start_time": "2024-09-17T01:42:50.881234Z"
    }
   },
   "cell_type": "code",
   "source": [
    "def f(x, u):\n",
    "    # Return a CasADi type (e.g., MX or SX) using vertcat to combine elements\n",
    "    return cs.vertcat(x[1], u - x[1])"
   ],
   "id": "78c4970c19cdbbe3",
   "outputs": [],
   "execution_count": 16
  },
  {
   "metadata": {},
   "cell_type": "markdown",
   "source": "# Set gap closing constraints, picking RK as integration method ",
   "id": "bf35bffb92efae5e"
  },
  {
   "metadata": {
    "ExecuteTime": {
     "end_time": "2024-09-17T01:42:54.956155Z",
     "start_time": "2024-09-17T01:42:54.896914Z"
    }
   },
   "cell_type": "code",
   "source": [
    "dt = T/N # length of a control interval\n",
    "for k in range(N):\n",
    "    # Using RK-4 \n",
    "    k1 = f(X[:, k], U[:, k])\n",
    "    k2 = f(X[:, k] + dt/2 * k1, U[:, k])\n",
    "    k3 = f(X[:, k] + dt/2 * k2, U[:, k])\n",
    "    k4 = f(X[:, k] + dt*k3, U[:, k])\n",
    "    x_next = X[:, k] + dt/6 * (k1 + 2*k2 + 2*k3 + k4)\n",
    "    opti.subject_to(X[:, k+1] == x_next)"
   ],
   "id": "374f12a63ea2f4c1",
   "outputs": [],
   "execution_count": 17
  },
  {
   "metadata": {},
   "cell_type": "markdown",
   "source": "# Set Path constraints",
   "id": "4a39be268cd19704"
  },
  {
   "metadata": {
    "ExecuteTime": {
     "end_time": "2024-09-17T02:00:49.133095Z",
     "start_time": "2024-09-17T02:00:49.127584Z"
    }
   },
   "cell_type": "code",
   "source": [
    "def limit(x):\n",
    "    return 1 - cs.sin(2 * cs.pi * x) / 2\n",
    "\n",
    "opti.subject_to(speed<=limit(pos)) # track speed limit \n",
    "\n",
    "# IMP: Need to separate these constraints \n",
    "opti.subject_to(0<=U) # control input greater than 0\n",
    "opti.subject_to(U<=1) # control input is limited to less than 1"
   ],
   "id": "8ceef8a6508bd378",
   "outputs": [],
   "execution_count": 26
  },
  {
   "metadata": {},
   "cell_type": "markdown",
   "source": "# Set Boundary conditions",
   "id": "9c37f0f29b694132"
  },
  {
   "metadata": {
    "ExecuteTime": {
     "end_time": "2024-09-17T02:00:52.186518Z",
     "start_time": "2024-09-17T02:00:52.181635Z"
    }
   },
   "cell_type": "code",
   "source": [
    "opti.subject_to(pos[0]==0) # start at pos 0 \n",
    "opti.subject_to(speed[0]==0) # ... from stand-still \n",
    "opti.subject_to(pos[N]==1) # finish line at position 1\n",
    "opti.subject_to(T>=0) # time must be positive"
   ],
   "id": "7472bcca53be474e",
   "outputs": [],
   "execution_count": 27
  },
  {
   "metadata": {},
   "cell_type": "markdown",
   "source": "# Provide initial guesses for the solver",
   "id": "cd6b81c36f30a6d0"
  },
  {
   "metadata": {
    "ExecuteTime": {
     "end_time": "2024-09-17T02:00:54.043547Z",
     "start_time": "2024-09-17T02:00:54.040197Z"
    }
   },
   "cell_type": "code",
   "source": [
    "opti.set_initial(speed, 1)\n",
    "opti.set_initial(T, 1)"
   ],
   "id": "3aad7eb9fd1cd0a3",
   "outputs": [],
   "execution_count": 28
  },
  {
   "metadata": {},
   "cell_type": "markdown",
   "source": "# Solve the NLP using IPOPT",
   "id": "7dbc25ca205d0264"
  },
  {
   "metadata": {
    "ExecuteTime": {
     "end_time": "2024-09-17T02:00:56.826753Z",
     "start_time": "2024-09-17T02:00:56.756736Z"
    }
   },
   "cell_type": "code",
   "source": [
    "opti.solver('ipopt')\n",
    "sol = opti.solve()"
   ],
   "id": "2182d4dfa3b77369",
   "outputs": [
    {
     "ename": "RuntimeError",
     "evalue": "Error in Opti::solve [OptiNode] at .../casadi/core/optistack.cpp:165:\n.../casadi/core/optistack_internal.cpp:1030: Constraint type unknown. Use ==, >= or <= .",
     "output_type": "error",
     "traceback": [
      "\u001B[0;31m---------------------------------------------------------------------------\u001B[0m",
      "\u001B[0;31mRuntimeError\u001B[0m                              Traceback (most recent call last)",
      "\u001B[0;32m/var/folders/35/p8jttrd16zng4wqrgt1tfwkh0000gn/T/ipykernel_52196/3885475717.py\u001B[0m in \u001B[0;36m?\u001B[0;34m()\u001B[0m\n\u001B[1;32m      1\u001B[0m \u001B[0mopti\u001B[0m\u001B[0;34m.\u001B[0m\u001B[0msolver\u001B[0m\u001B[0;34m(\u001B[0m\u001B[0;34m'ipopt'\u001B[0m\u001B[0;34m)\u001B[0m\u001B[0;34m\u001B[0m\u001B[0;34m\u001B[0m\u001B[0m\n\u001B[0;32m----> 2\u001B[0;31m \u001B[0msol\u001B[0m \u001B[0;34m=\u001B[0m \u001B[0mopti\u001B[0m\u001B[0;34m.\u001B[0m\u001B[0msolve\u001B[0m\u001B[0;34m(\u001B[0m\u001B[0;34m)\u001B[0m\u001B[0;34m\u001B[0m\u001B[0;34m\u001B[0m\u001B[0m\n\u001B[0m",
      "\u001B[0;32m~/ENTER/lib/python3.12/site-packages/casadi/casadi.py\u001B[0m in \u001B[0;36m?\u001B[0;34m(self, *args)\u001B[0m\n\u001B[1;32m  48335\u001B[0m \u001B[0;34m\u001B[0m\u001B[0m\n\u001B[1;32m  48336\u001B[0m \u001B[0;34m\u001B[0m\u001B[0m\n\u001B[1;32m  48337\u001B[0m \u001B[0;34m\u001B[0m\u001B[0m\n\u001B[1;32m  48338\u001B[0m         \"\"\"\n\u001B[0;32m> 48339\u001B[0;31m         \u001B[0;32mreturn\u001B[0m \u001B[0m_casadi\u001B[0m\u001B[0;34m.\u001B[0m\u001B[0mOpti_solve\u001B[0m\u001B[0;34m(\u001B[0m\u001B[0mself\u001B[0m\u001B[0;34m,\u001B[0m \u001B[0;34m*\u001B[0m\u001B[0margs\u001B[0m\u001B[0;34m)\u001B[0m\u001B[0;34m\u001B[0m\u001B[0;34m\u001B[0m\u001B[0m\n\u001B[0m",
      "\u001B[0;31mRuntimeError\u001B[0m: Error in Opti::solve [OptiNode] at .../casadi/core/optistack.cpp:165:\n.../casadi/core/optistack_internal.cpp:1030: Constraint type unknown. Use ==, >= or <= ."
     ]
    }
   ],
   "execution_count": 29
  },
  {
   "metadata": {},
   "cell_type": "code",
   "outputs": [],
   "execution_count": null,
   "source": "",
   "id": "8d10337a95b4aa0e"
  }
 ],
 "metadata": {
  "kernelspec": {
   "display_name": "Python 3",
   "language": "python",
   "name": "python3"
  },
  "language_info": {
   "codemirror_mode": {
    "name": "ipython",
    "version": 2
   },
   "file_extension": ".py",
   "mimetype": "text/x-python",
   "name": "python",
   "nbconvert_exporter": "python",
   "pygments_lexer": "ipython2",
   "version": "2.7.6"
  }
 },
 "nbformat": 4,
 "nbformat_minor": 5
}
